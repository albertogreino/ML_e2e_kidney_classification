{
 "cells": [
  {
   "cell_type": "code",
   "execution_count": 3,
   "metadata": {},
   "outputs": [],
   "source": [
    "import os"
   ]
  },
  {
   "cell_type": "code",
   "execution_count": 8,
   "metadata": {},
   "outputs": [],
   "source": [
    "\n",
    "os.chdir(\"/\")\n"
   ]
  },
  {
   "cell_type": "code",
   "execution_count": 15,
   "metadata": {},
   "outputs": [
    {
     "name": "stdout",
     "output_type": "stream",
     "text": [
      " Volume in drive F is Data\n",
      " Volume Serial Number is 264B-1990\n",
      "\n",
      " Directory of f:\\datasets\n",
      "\n",
      "17/03/2024  19:01    <DIR>          .\n",
      "17/03/2024  18:48    <DIR>          Ri�ones - Cyst, Stone, Tumor, Normal - Dataset\n",
      "17/03/2024  19:01       325.415.874 Ri�ones - Cyst, Stone, Tumor, Normal - Dataset.zip\n",
      "               1 File(s)    325.415.874 bytes\n",
      "               2 Dir(s)  231.992.942.592 bytes free\n"
     ]
    }
   ],
   "source": [
    "%pwd\n",
    "os.chdir(\"/datasets/\")\n",
    "%ls"
   ]
  },
  {
   "cell_type": "code",
   "execution_count": null,
   "metadata": {},
   "outputs": [],
   "source": []
  }
 ],
 "metadata": {
  "kernelspec": {
   "display_name": ".venv",
   "language": "python",
   "name": "python3"
  },
  "language_info": {
   "codemirror_mode": {
    "name": "ipython",
    "version": 3
   },
   "file_extension": ".py",
   "mimetype": "text/x-python",
   "name": "python",
   "nbconvert_exporter": "python",
   "pygments_lexer": "ipython3",
   "version": "3.10.11"
  }
 },
 "nbformat": 4,
 "nbformat_minor": 2
}
